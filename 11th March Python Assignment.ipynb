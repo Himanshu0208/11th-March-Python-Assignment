{
 "cells": [
  {
   "cell_type": "markdown",
   "id": "08d26192-5e92-4c47-9643-9502f8ee7e50",
   "metadata": {},
   "source": [
    "# __Ques 1__\n",
    "1. t-test = It is genrally used when whether the population standard deviation is not know or where teh size of the sample is less than or equal to 30.\n",
    "2. z-test = It is genrally used where the size of the sample is greater than or equal to 30 and also the standard deviation of the population is given "
   ]
  },
  {
   "cell_type": "markdown",
   "id": "f1747671-bc33-4a4e-9f6c-3b101dbfb096",
   "metadata": {},
   "source": [
    "# __Ques 2__\n",
    "1. one-tailed = In this test we make the &alpha; value on one side and the reaming data will be of teh 1-&alpha; in short here we put the limt on only one side of the distrbution , it is of two types let tails and right tail\n",
    "2. two-tailed = In this test we make half the signiciance value on both left and right sid elimit , thus bound the data from both the sides"
   ]
  },
  {
   "cell_type": "markdown",
   "id": "625c00fd-11c2-408b-9c62-dc8b0e71ad31",
   "metadata": {},
   "source": [
    "# __Ques 3__\n",
    "1. __Type I Error:__ This occurs when we reject the null hypothesis when it is actually true. In other words, we conclude that there is a significant effect or difference when there is not. The probability of making a Type I error is denoted by α and is typically set at 0.05 (i.e., 5%) or lower. __Example Scenario:__ A drug company is testing a new drug to treat a certain medical condition. They conduct a clinical trial in which they randomly assign patients to either receive the new drug or a placebo. After analyzing the data, the company concludes that the new drug is significantly more effective than the placebo. However, it turns out that this conclusion was based on a Type I error, and the drug is actually no more effective than the placebo.\n",
    "<br>\n",
    "2. __Type II Error:__ This occurs when we fail to reject the null hypothesis when it is actually false. In other words, we conclude that there is no significant effect or difference when there actually is. The probability of making a Type II error is denoted by β. __Example Scenario:__ A school district is considering whether to implement a new educational program designed to improve student performance. They conduct a pilot study in which they randomly assign some schools to receive the program and others to continue with their existing curriculum. After analyzing the data, the district concludes that there is no significant difference in student performance between the schools that received the program and those that did not. However, it turns out that this conclusion was based on a Type II error, and the program is actually effective at improving student performance."
   ]
  },
  {
   "cell_type": "markdown",
   "id": "9e158263-11cb-4238-97cd-bfc8197e9a22",
   "metadata": {},
   "source": [
    "# __Ques 4__\n",
    "Bayes's theorem is a mathematical formula that allows us to update our beliefs or probabilities about an event based on new evidence or information. It is named after the 18th-century statistician and philosopher Thomas Bayes.\n",
    "<br>\n",
    "Bayes's theorem can be stated as follows:\n",
    "<br>\n",
    "P(A|B) = P(B|A) * P(A) / P(B)\n",
    "<br>\n",
    "where P(A|B) is the probability of event A given that event B has occurred, P(B|A) is the probability of event B given that event A has occurred, P(A) is the prior probability of event A, and P(B) is the prior probability of event B"
   ]
  },
  {
   "cell_type": "markdown",
   "id": "7f1acccf-a9c9-4b32-8a66-8105ef7fbe57",
   "metadata": {},
   "source": [
    "# __Ques 5__\n",
    "A confidence interval is a range of values that is likely to contain the true value of a population parameter with a certain degree of confidence or probability. In other words, it is an estimate of the range of values within which the true population parameter is likely to fall.\n",
    "<br>\n",
    "Confidence intervals are commonly used in statistics to estimate the population mean or population proportion from a sample of data. The confidence interval provides a range of plausible values for the population parameter based on the observed sample data.\n",
    "<br><br>\n",
    "To calculate a confidence interval, the following steps can be used:\n",
    "\n",
    "1. Determine the sample size, sample mean, and sample standard deviation.\n",
    "\n",
    "1. Choose a confidence level, typically 95% or 99%.\n",
    "\n",
    "1. Determine the appropriate critical value or z-score based on the confidence level and the distribution of the data. This can be found using a standard normal distribution table or a statistical software package.\n",
    "\n",
    "1. Calculate the margin of error, which is equal to the critical value multiplied by the standard error of the mean. The standard error of the mean is equal to the sample standard deviation divided by the square root of the sample size.\n",
    "\n",
    "1. Construct the confidence interval by adding and subtracting the margin of error from the sample mean."
   ]
  },
  {
   "cell_type": "markdown",
   "id": "ccb110c5-2c9b-4f25-bd57-0d916bd876e6",
   "metadata": {},
   "source": [
    "# __Ques 6__\n",
    "__Problem:__\n",
    "<br>\n",
    "Suppose a medical test for a certain disease has a false positive rate of 5% (i.e., the probability of a positive test result given that the patient does not have the disease is 5%) and a false negative rate of 10% (i.e., the probability of a negative test result given that the patient does have the disease is 10%). If the disease has a prevalence rate of 1% in the population, what is the probability that a person who tests positive actually has the dis"
   ]
  },
  {
   "cell_type": "code",
   "execution_count": 57,
   "id": "cb9cf844-0fbd-4e55-9ec2-6bd293e070ce",
   "metadata": {},
   "outputs": [
    {
     "name": "stdout",
     "output_type": "stream",
     "text": [
      "Probability of having the disease given a positive test result: 15.38%\n"
     ]
    }
   ],
   "source": [
    "# False positive rate\n",
    "p_B_given_not_A = 0.05\n",
    "\n",
    "# False negative rate\n",
    "p_not_B_given_A = 0.1\n",
    "\n",
    "# Prevalence rate\n",
    "p_A = 0.01\n",
    "\n",
    "# Probability of testing positive\n",
    "p_B = (1 - p_not_B_given_A) * p_A + p_B_given_not_A * (1 - p_A)\n",
    "\n",
    "# Probability of having the disease given a positive test result\n",
    "p_A_given_B = (1 - p_not_B_given_A) * p_A / p_B\n",
    "\n",
    "print(\"Probability of having the disease given a positive test result: {:.2%}\".format(p_A_given_B))"
   ]
  },
  {
   "cell_type": "markdown",
   "id": "13a49ee1-f75d-47aa-adba-2b3d4a11e9d9",
   "metadata": {},
   "source": [
    "# __Ques 7__"
   ]
  },
  {
   "cell_type": "code",
   "execution_count": 11,
   "id": "48424cfa-1f8b-44e2-836a-3c81989cc328",
   "metadata": {},
   "outputs": [
    {
     "data": {
      "text/plain": [
       "(49.80400360154599, 50.19599639845401)"
      ]
     },
     "execution_count": 11,
     "metadata": {},
     "output_type": "execute_result"
    }
   ],
   "source": [
    "import scipy.stats as st\n",
    "\n",
    "mean = 50\n",
    "std = 5\n",
    "sample_size = 100 # Assumed\n",
    "z_score = st.norm.ppf(0.975)\n",
    "error = z_score*(std/(sample_size ** 1/2))\n",
    "range_mean = (mean - error , mean + error)\n",
    "range_mean"
   ]
  },
  {
   "cell_type": "markdown",
   "id": "35e34e27-e279-4aea-9eea-a00430823b0d",
   "metadata": {},
   "source": [
    "# __Ques 9__\n"
   ]
  },
  {
   "cell_type": "code",
   "execution_count": 20,
   "id": "bbe8cf2c-b694-4257-b94b-a599d0d5e258",
   "metadata": {},
   "outputs": [],
   "source": [
    "import scipy.stats as st\n",
    "\n",
    "mean =  70\n",
    "std = 5\n",
    "x =  75\n",
    "sample_size = 100 # Assumed\n",
    "z_score = (x - mean)/(std/(sample_size ** (1/2)))"
   ]
  },
  {
   "cell_type": "code",
   "execution_count": 21,
   "id": "95577e56-8025-4363-b0ce-63113d3f0ff5",
   "metadata": {},
   "outputs": [
    {
     "data": {
      "text/plain": [
       "10.0"
      ]
     },
     "execution_count": 21,
     "metadata": {},
     "output_type": "execute_result"
    }
   ],
   "source": [
    "z_score"
   ]
  },
  {
   "cell_type": "markdown",
   "id": "20f6d5a3-fa02-4d4d-be09-71203d33d79b",
   "metadata": {},
   "source": [
    "# __Ques 10__\n",
    "1. Null Hypothesis H0: there is not significant effect of th mediceine , &mu; = 0\n",
    "2. Alternate Hypothess H1 : There is a significant effect of the medicine , &mu; > 0"
   ]
  },
  {
   "cell_type": "code",
   "execution_count": 44,
   "id": "0e09cfe7-5a0c-426a-a4d8-8b1a7093a989",
   "metadata": {},
   "outputs": [],
   "source": [
    "import scipy.stats as st\n",
    "\n",
    "sample_size = 50\n",
    "x =  6\n",
    "std = 2.5\n",
    "mean =  0\n",
    "t_score = (x - mean)/(std/(sample_size ** (1/2)))"
   ]
  },
  {
   "cell_type": "code",
   "execution_count": 46,
   "id": "240332d0-c716-481d-b142-9aecbd17e2eb",
   "metadata": {},
   "outputs": [
    {
     "name": "stdout",
     "output_type": "stream",
     "text": [
      "Null hypothesis is rejected and there is a significance weight loss\n"
     ]
    }
   ],
   "source": [
    "if t_score > 1.677:\n",
    "    print('Null hypothesis is rejected and there is a significance weight loss')\n",
    "else :\n",
    "    print('Null hypothesis is accepted and there is a no significance weight loss')"
   ]
  },
  {
   "cell_type": "markdown",
   "id": "57592c2f-38a0-46d5-abea-f4cc26aa6958",
   "metadata": {
    "tags": []
   },
   "source": [
    "# __Ques 11__"
   ]
  },
  {
   "cell_type": "code",
   "execution_count": 16,
   "id": "def901e0-8abb-4b50-a76f-e0e520fc871e",
   "metadata": {},
   "outputs": [
    {
     "data": {
      "text/plain": [
       "(0.6081925393809212, 0.6918074606190788)"
      ]
     },
     "execution_count": 16,
     "metadata": {},
     "output_type": "execute_result"
    }
   ],
   "source": [
    "import scipy.stats as stat\n",
    "import numpy as np\n",
    "\n",
    "n=500\n",
    "p=0.65\n",
    "q=1-p\n",
    "alpha=0.05\n",
    "\n",
    "se=np.sqrt(p*q/n)\n",
    "confidence_interval=stat.norm.interval(confidence=1-alpha , loc=p, scale=se)\n",
    "confidence_interval"
   ]
  },
  {
   "cell_type": "markdown",
   "id": "55e4f7e3-a23f-4aa3-924a-629da495c1cb",
   "metadata": {},
   "source": [
    "# __Ques 12__\n",
    "1. Null Hypothesis H0: there is not significant effect of th mediceine , &mu;1 = &mu;2\n",
    "2. Alternate Hypothess H1 : There is a significant effect of the medicine , &mu;1 != &mu;2"
   ]
  },
  {
   "cell_type": "code",
   "execution_count": 55,
   "id": "3e40cca6-4fda-4a00-be58-7d564fa50208",
   "metadata": {},
   "outputs": [
    {
     "data": {
      "text/plain": [
       "2.1038606199548298"
      ]
     },
     "execution_count": 55,
     "metadata": {},
     "output_type": "execute_result"
    }
   ],
   "source": [
    "x1 , x2 = 85 , 82\n",
    "std1 , std2 = 6 , 5\n",
    "n1 , n2 = 30 , 30 #assumed\n",
    "dof = n1 + n2 - 2;\n",
    "\n",
    "t_score = (x1-x2)\n",
    "t_score /= (((std1 ** 2)/n1 + (std2 ** 2)/n2) ** (1/2)) \n",
    "t_score"
   ]
  },
  {
   "cell_type": "code",
   "execution_count": 56,
   "id": "49c27259-0b7c-427f-aaf5-cfeb5aaa4cd9",
   "metadata": {},
   "outputs": [
    {
     "name": "stdout",
     "output_type": "stream",
     "text": [
      "Null hypothesis is accepted and there is a no significance diffrence between the two teaching methods\n"
     ]
    }
   ],
   "source": [
    "if t_score > 3.237 :\n",
    "    print('Null hypothesis is rejected and there is a significance diffrence between the two teaching methods')\n",
    "else :\n",
    "    print('Null hypothesis is accepted and there is a no significance diffrence between the two teaching methods')"
   ]
  },
  {
   "cell_type": "markdown",
   "id": "70c187d7-c511-4c50-93a0-90d68b169bd1",
   "metadata": {},
   "source": [
    "# __Ques 13__"
   ]
  },
  {
   "cell_type": "code",
   "execution_count": 2,
   "id": "0f2cffb9-0c9a-44f8-82ed-2cdfdf872f54",
   "metadata": {},
   "outputs": [],
   "source": [
    "mean =  65\n",
    "sample_size = 50\n",
    "std = 8\n",
    "std_error =  std / (sample_size ** (1/2))\n",
    "critical_value_for_90_percent = 1.676"
   ]
  },
  {
   "cell_type": "code",
   "execution_count": 3,
   "id": "efef493b-10c4-4833-827a-0746d4b8243b",
   "metadata": {},
   "outputs": [],
   "source": [
    "range_mean = (mean - (std_error * critical_value_for_90_percent) , mean + (std_error * critical_value_for_90_percent))"
   ]
  },
  {
   "cell_type": "code",
   "execution_count": 5,
   "id": "df0b6c7e-b927-4142-9e8a-bd81f4f57fc7",
   "metadata": {},
   "outputs": [
    {
     "data": {
      "text/plain": [
       "(63.10382245557015, 66.89617754442985)"
      ]
     },
     "execution_count": 5,
     "metadata": {},
     "output_type": "execute_result"
    }
   ],
   "source": [
    "range_mean"
   ]
  },
  {
   "cell_type": "markdown",
   "id": "d23ca924-404a-4fb6-8864-bd6c379e102d",
   "metadata": {},
   "source": [
    "# __Ques 14__\n",
    "__Null Hypothesis H0:__ There is no significant effect of caffene on reaction time &mu; = 0.25<br>\n",
    "__Alternate Hypothesis H1:__ There is a significant effect of caffene on  reaction time &mu != 0.25;"
   ]
  },
  {
   "cell_type": "code",
   "execution_count": 12,
   "id": "4dcea280-54de-4afd-9d08-8a35acb9df71",
   "metadata": {},
   "outputs": [
    {
     "name": "stdout",
     "output_type": "stream",
     "text": [
      "1.0 0.1\n",
      "Fail to reject null hypothesis. There is no significant effect of caffeine on reaction time.\n"
     ]
    }
   ],
   "source": [
    "import scipy.stats as stats\n",
    "\n",
    "n = 30\n",
    "x_bar = 0.25\n",
    "mu = 0.25\n",
    "s = 0.05\n",
    "\n",
    "t_statistic = (x_bar - mu) / (s / (n ** 0.5))\n",
    "p_value = 2 * (1 - stats.t.cdf(abs(t_statistic), df=n-1))\n",
    "\n",
    "alpha = 0.1\n",
    "print(p_value, alpha)\n",
    "if p_value < alpha:\n",
    "    print(\"Reject null hypothesis. Caffeine has a significant effect on reaction time.\")\n",
    "else:\n",
    "    print(\"Fail to reject null hypothesis. There is no significant effect of caffeine on reaction time.\")"
   ]
  }
 ],
 "metadata": {
  "kernelspec": {
   "display_name": "Python 3 (ipykernel)",
   "language": "python",
   "name": "python3"
  },
  "language_info": {
   "codemirror_mode": {
    "name": "ipython",
    "version": 3
   },
   "file_extension": ".py",
   "mimetype": "text/x-python",
   "name": "python",
   "nbconvert_exporter": "python",
   "pygments_lexer": "ipython3",
   "version": "3.10.8"
  }
 },
 "nbformat": 4,
 "nbformat_minor": 5
}
